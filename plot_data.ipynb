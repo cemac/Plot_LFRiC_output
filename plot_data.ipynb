{
 "cells": [
  {
   "cell_type": "code",
   "execution_count": null,
   "metadata": {},
   "outputs": [],
   "source": [
    "# Load in the data\n",
    "import iris\n",
    "cubes = iris.load(\"lfric_initial.nc\")\n",
    "\n",
    "# Check how many cubes are loaded in\n",
    "print(f'Loaded {len(cubes)} cubes')\n",
    "\n",
    "# Print the names of the cubes - you can click on these to get more information\n",
    "cubes"
   ]
  },
  {
   "cell_type": "code",
   "execution_count": 2,
   "metadata": {},
   "outputs": [],
   "source": [
    "# You can also load individual cubes\n",
    "cell_centres = iris.load_cube(\"lfric_initial.nc\",'height_of_cell_centres_above_earth_radius')\n",
    "\n",
    "# Print some information about this cube\n",
    "#print(cell_centres.mesh)\n",
    "#print(cell_centres.location)\n",
    "#print(cell_centres.mesh_dim)"
   ]
  },
  {
   "cell_type": "code",
   "execution_count": 3,
   "metadata": {},
   "outputs": [],
   "source": [
    "# To plot the data, we need to use GeoVista to convert the iris cube into a PyVista PolyData object\n",
    "import geovista as gv\n",
    "from geovista import Transform\n",
    "\n",
    "# This function is copied from https://github.com/scitools-classroom/iris-mesh-tutorial\n",
    "def pv_from_lfric_cube(cube):\n",
    "    \"\"\"Use Geovista to make a PyVista PolyData from a mesh-based 2D face cube.\"\"\"\n",
    "    if cube.location != \"face\":\n",
    "        # For now only support face data, as connectivity info is different for other types\n",
    "        raise ValueError(f\"cube location must be 'face', not {cube.location}\")\n",
    "    lon, lat = cube.mesh.node_coords\n",
    "    face_node = cube.mesh.face_node_connectivity\n",
    "    # Returns a PyVista PolyData class.\n",
    "    return Transform.from_unstructured(\n",
    "        xs=lon.points,\n",
    "        ys=lat.points,\n",
    "        connectivity=face_node.indices_by_location(),\n",
    "        start_index=face_node.start_index,\n",
    "        data=cube.data,\n",
    "        name=cube.name()\n",
    "    )\n",
    "\n",
    "# Get the first time frame\n",
    "pv = pv_from_lfric_cube(cell_centres[0])"
   ]
  },
  {
   "cell_type": "markdown",
   "metadata": {},
   "source": []
  },
  {
   "cell_type": "code",
   "execution_count": null,
   "metadata": {},
   "outputs": [],
   "source": [
    "# Display an instant 3D plot. This plot is interactive. Try dragging to rotate, and the mouse scroll-wheel to zoom.\n",
    "\n",
    "pv.plot()"
   ]
  },
  {
   "cell_type": "code",
   "execution_count": null,
   "metadata": {},
   "outputs": [],
   "source": [
    "# Create a plotter to display 3D visualisation of data from Iris\n",
    "from geovista import GeoPlotter\n",
    "plotter = GeoPlotter()\n",
    "\n",
    "# Call the plotter add_mesh function\n",
    "#_ = plotter.add_mesh(pv)\n",
    "\n",
    "plotter.add_mesh(pv, show_edges=True)\n",
    "\n",
    "# Add coastline and gridlines\n",
    "plotter.add_coastlines()\n",
    "\n",
    "# Show the plotter\n",
    "plotter.show() # add \"jupyter_backend='static'\" inside the brackets to display a static rather than interactive image"
   ]
  }
 ],
 "metadata": {
  "kernelspec": {
   "display_name": "lfric_plotting",
   "language": "python",
   "name": "python3"
  },
  "language_info": {
   "codemirror_mode": {
    "name": "ipython",
    "version": 3
   },
   "file_extension": ".py",
   "mimetype": "text/x-python",
   "name": "python",
   "nbconvert_exporter": "python",
   "pygments_lexer": "ipython3",
   "version": "3.12.2"
  }
 },
 "nbformat": 4,
 "nbformat_minor": 2
}
